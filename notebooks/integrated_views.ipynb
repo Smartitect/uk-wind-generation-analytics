{
 "cells": [
  {
   "cell_type": "code",
   "execution_count": 42,
   "metadata": {},
   "outputs": [],
   "source": [
    "import polars as pl\n",
    "\n",
    "from historic_generation_wrangler import HistoricGenerationWrangler\n",
    "from renewable_locations_wrangler import RenewableLocationsWrangler\n"
   ]
  },
  {
   "cell_type": "code",
   "execution_count": 43,
   "metadata": {},
   "outputs": [
    {
     "name": "stderr",
     "output_type": "stream",
     "text": [
      "INFO:root:Downloading data from https://data.elexon.co.uk/bmrs/api/v1/datasets/FUELINST/stream?publishDateTimeFrom=2024-10-26T18:47:43Z&publishDateTimeTo=2025-01-24T18:47:43Z\n"
     ]
    },
    {
     "data": {
      "text/html": [
       "<div><style>\n",
       ".dataframe > thead > tr,\n",
       ".dataframe > tbody > tr {\n",
       "  text-align: right;\n",
       "  white-space: pre-wrap;\n",
       "}\n",
       "</style>\n",
       "<small>shape: (819, 10)</small><table border=\"1\" class=\"dataframe\"><thead><tr><th>settlementDate</th><th>group</th><th>name</th><th>max_generation</th><th>median_generation</th><th>min_generation</th><th>min_percentage_of_total_generation</th><th>max_percentage_of_total_generation</th><th>median_percentage_of_total_generation</th><th>row_count</th></tr><tr><td>date</td><td>str</td><td>str</td><td>i64</td><td>f64</td><td>i64</td><td>f64</td><td>f64</td><td>f64</td><td>u32</td></tr></thead><tbody><tr><td>2024-12-05</td><td>&quot;Fossil Fuel&quot;</td><td>&quot;CCGT&quot;</td><td>11131</td><td>5631.0</td><td>0</td><td>0.110175</td><td>0.371499</td><td>0.245711</td><td>288</td></tr><tr><td>2024-11-28</td><td>&quot;Renewable&quot;</td><td>&quot;Biomass&quot;</td><td>3136</td><td>2634.0</td><td>1061</td><td>0.046277</td><td>0.09199</td><td>0.077738</td><td>288</td></tr><tr><td>2024-11-18</td><td>&quot;Fossil Fuel&quot;</td><td>&quot;OCGT&quot;</td><td>174</td><td>4.0</td><td>1</td><td>0.00003</td><td>0.00509</td><td>0.00019</td><td>288</td></tr><tr><td>2025-01-04</td><td>&quot;Nuclear&quot;</td><td>&quot;Nuclear&quot;</td><td>5041</td><td>4994.0</td><td>4973</td><td>0.143132</td><td>0.232012</td><td>0.164295</td><td>288</td></tr><tr><td>2024-12-30</td><td>&quot;Fossil Fuel&quot;</td><td>&quot;OCGT&quot;</td><td>41</td><td>1.0</td><td>0</td><td>0.0</td><td>0.001424</td><td>0.000043</td><td>288</td></tr><tr><td>&hellip;</td><td>&hellip;</td><td>&hellip;</td><td>&hellip;</td><td>&hellip;</td><td>&hellip;</td><td>&hellip;</td><td>&hellip;</td><td>&hellip;</td><td>&hellip;</td></tr><tr><td>2024-12-17</td><td>&quot;Renewable&quot;</td><td>&quot;Wind&quot;</td><td>17342</td><td>13209.5</td><td>8599</td><td>0.277311</td><td>0.609583</td><td>0.416527</td><td>288</td></tr><tr><td>2024-11-22</td><td>&quot;Nuclear&quot;</td><td>&quot;Nuclear&quot;</td><td>4177</td><td>4160.0</td><td>4147</td><td>0.114034</td><td>0.193184</td><td>0.129089</td><td>288</td></tr><tr><td>2024-10-29</td><td>&quot;Renewable&quot;</td><td>&quot;Wind&quot;</td><td>4391</td><td>3326.5</td><td>1535</td><td>0.071088</td><td>0.218532</td><td>0.131138</td><td>288</td></tr><tr><td>2024-12-08</td><td>&quot;Fossil Fuel&quot;</td><td>&quot;Oil&quot;</td><td>0</td><td>0.0</td><td>0</td><td>0.0</td><td>0.0</td><td>0.0</td><td>288</td></tr><tr><td>2024-11-06</td><td>&quot;Fossil Fuel&quot;</td><td>&quot;Coal&quot;</td><td>0</td><td>0.0</td><td>0</td><td>0.0</td><td>0.0</td><td>0.0</td><td>288</td></tr></tbody></table></div>"
      ],
      "text/plain": [
       "shape: (819, 10)\n",
       "┌────────────┬───────────┬─────────┬───────────┬───┬───────────┬───────────┬───────────┬───────────┐\n",
       "│ settlement ┆ group     ┆ name    ┆ max_gener ┆ … ┆ min_perce ┆ max_perce ┆ median_pe ┆ row_count │\n",
       "│ Date       ┆ ---       ┆ ---     ┆ ation     ┆   ┆ ntage_of_ ┆ ntage_of_ ┆ rcentage_ ┆ ---       │\n",
       "│ ---        ┆ str       ┆ str     ┆ ---       ┆   ┆ total_gen ┆ total_gen ┆ of_total_ ┆ u32       │\n",
       "│ date       ┆           ┆         ┆ i64       ┆   ┆ era…      ┆ era…      ┆ gen…      ┆           │\n",
       "│            ┆           ┆         ┆           ┆   ┆ ---       ┆ ---       ┆ ---       ┆           │\n",
       "│            ┆           ┆         ┆           ┆   ┆ f64       ┆ f64       ┆ f64       ┆           │\n",
       "╞════════════╪═══════════╪═════════╪═══════════╪═══╪═══════════╪═══════════╪═══════════╪═══════════╡\n",
       "│ 2024-12-05 ┆ Fossil    ┆ CCGT    ┆ 11131     ┆ … ┆ 0.110175  ┆ 0.371499  ┆ 0.245711  ┆ 288       │\n",
       "│            ┆ Fuel      ┆         ┆           ┆   ┆           ┆           ┆           ┆           │\n",
       "│ 2024-11-28 ┆ Renewable ┆ Biomass ┆ 3136      ┆ … ┆ 0.046277  ┆ 0.09199   ┆ 0.077738  ┆ 288       │\n",
       "│ 2024-11-18 ┆ Fossil    ┆ OCGT    ┆ 174       ┆ … ┆ 0.00003   ┆ 0.00509   ┆ 0.00019   ┆ 288       │\n",
       "│            ┆ Fuel      ┆         ┆           ┆   ┆           ┆           ┆           ┆           │\n",
       "│ 2025-01-04 ┆ Nuclear   ┆ Nuclear ┆ 5041      ┆ … ┆ 0.143132  ┆ 0.232012  ┆ 0.164295  ┆ 288       │\n",
       "│ 2024-12-30 ┆ Fossil    ┆ OCGT    ┆ 41        ┆ … ┆ 0.0       ┆ 0.001424  ┆ 0.000043  ┆ 288       │\n",
       "│            ┆ Fuel      ┆         ┆           ┆   ┆           ┆           ┆           ┆           │\n",
       "│ …          ┆ …         ┆ …       ┆ …         ┆ … ┆ …         ┆ …         ┆ …         ┆ …         │\n",
       "│ 2024-12-17 ┆ Renewable ┆ Wind    ┆ 17342     ┆ … ┆ 0.277311  ┆ 0.609583  ┆ 0.416527  ┆ 288       │\n",
       "│ 2024-11-22 ┆ Nuclear   ┆ Nuclear ┆ 4177      ┆ … ┆ 0.114034  ┆ 0.193184  ┆ 0.129089  ┆ 288       │\n",
       "│ 2024-10-29 ┆ Renewable ┆ Wind    ┆ 4391      ┆ … ┆ 0.071088  ┆ 0.218532  ┆ 0.131138  ┆ 288       │\n",
       "│ 2024-12-08 ┆ Fossil    ┆ Oil     ┆ 0         ┆ … ┆ 0.0       ┆ 0.0       ┆ 0.0       ┆ 288       │\n",
       "│            ┆ Fuel      ┆         ┆           ┆   ┆           ┆           ┆           ┆           │\n",
       "│ 2024-11-06 ┆ Fossil    ┆ Coal    ┆ 0         ┆ … ┆ 0.0       ┆ 0.0       ┆ 0.0       ┆ 288       │\n",
       "│            ┆ Fuel      ┆         ┆           ┆   ┆           ┆           ┆           ┆           │\n",
       "└────────────┴───────────┴─────────┴───────────┴───┴───────────┴───────────┴───────────┴───────────┘"
      ]
     },
     "execution_count": 43,
     "metadata": {},
     "output_type": "execute_result"
    }
   ],
   "source": [
    "hgw = HistoricGenerationWrangler()\n",
    "generation_data = hgw.get_generation_data(90)\n",
    "generation_data = hgw.calculate_percentage_of_total_generation(generation_data)\n",
    "aggregated_generation_data = hgw.aggregate_generation_data_by_settlement_date_and_fuel_type(generation_data)\n",
    "aggregated_generation_data"
   ]
  },
  {
   "cell_type": "code",
   "execution_count": 44,
   "metadata": {},
   "outputs": [
    {
     "name": "stderr",
     "output_type": "stream",
     "text": [
      "WARNING:fastexcel.types.dtype:Could not determine dtype for column 6, falling back to string\n",
      "WARNING:fastexcel.types.dtype:Could not determine dtype for column 7, falling back to string\n",
      "WARNING:fastexcel.types.dtype:Could not determine dtype for column 9, falling back to string\n",
      "WARNING:fastexcel.types.dtype:Could not determine dtype for column 12, falling back to string\n",
      "WARNING:fastexcel.types.dtype:Could not determine dtype for column 13, falling back to string\n",
      "WARNING:fastexcel.types.dtype:Could not determine dtype for column 15, falling back to string\n",
      "WARNING:fastexcel.types.dtype:Could not determine dtype for column 16, falling back to string\n",
      "WARNING:fastexcel.types.dtype:Could not determine dtype for column 17, falling back to string\n",
      "WARNING:fastexcel.types.dtype:Could not determine dtype for column 18, falling back to string\n",
      "WARNING:fastexcel.types.dtype:Could not determine dtype for column 22, falling back to string\n",
      "WARNING:fastexcel.types.dtype:Could not determine dtype for column 33, falling back to string\n",
      "WARNING:fastexcel.types.dtype:Could not determine dtype for column 34, falling back to string\n",
      "WARNING:fastexcel.types.dtype:Could not determine dtype for column 35, falling back to string\n",
      "WARNING:fastexcel.types.dtype:Could not determine dtype for column 36, falling back to string\n",
      "WARNING:fastexcel.types.dtype:Could not determine dtype for column 45, falling back to string\n",
      "WARNING:fastexcel.types.dtype:Could not determine dtype for column 46, falling back to string\n",
      "WARNING:fastexcel.types.dtype:Could not determine dtype for column 47, falling back to string\n",
      "WARNING:fastexcel.types.dtype:Could not determine dtype for column 51, falling back to string\n",
      "WARNING:fastexcel.types.dtype:Could not determine dtype for column 52, falling back to string\n",
      "INFO:root:Downloaded 11525 rows of data with the following column names:\n",
      " ['Old Ref ID', 'Ref ID', 'Record Last Updated (dd/mm/yyyy)', 'Operator (or Applicant)', 'Site Name', 'Technology Type', 'Storage Type', 'Storage Co-location REPD Ref ID', 'Installed Capacity (MWelec)', 'Share Community Scheme', 'CHP Enabled', 'CfD Allocation Round', 'RO Banding (ROC/MWh)', 'FiT Tariff (p/kWh)', 'CfD Capacity (MW)', 'Turbine Capacity (MW)', 'No. of Turbines', 'Height of Turbines (m)', 'Mounting Type for Solar', 'Development Status', 'Development Status (short)', 'Are they re-applying (New REPD Ref)', 'Are they re-applying (Old REPD Ref) ', 'Address', 'County', 'Region', 'Country', 'Post Code', 'X-coordinate', 'Y-coordinate', 'Planning Authority', 'Planning Application Reference', 'Appeal Reference', 'Secretary of State Reference', 'Type of Secretary of State Intervention', 'Judicial Review', 'Offshore Wind Round', 'Planning Application Submitted', 'Planning Application Withdrawn', 'Planning Permission Refused', 'Appeal Lodged', 'Appeal Withdrawn', 'Appeal Refused', 'Appeal Granted', 'Planning Permission Granted', 'Secretary of State - Intervened', 'Secretary of State - Refusal', 'Secretary of State - Granted', 'Planning Permission Expired', 'Under Construction', 'Operational', 'Heat Network Ref', 'Solar Site Area (sqm)']\n"
     ]
    },
    {
     "data": {
      "text/html": [
       "<div><style>\n",
       ".dataframe > thead > tr,\n",
       ".dataframe > tbody > tr {\n",
       "  text-align: right;\n",
       "  white-space: pre-wrap;\n",
       "}\n",
       "</style>\n",
       "<small>shape: (11_926, 2)</small><table border=\"1\" class=\"dataframe\"><thead><tr><th>date</th><th>cumulative_installed_capacity_mw</th></tr><tr><td>date</td><td>f64</td></tr></thead><tbody><tr><td>1992-06-01</td><td>1.3</td></tr><tr><td>1992-06-02</td><td>1.3</td></tr><tr><td>1992-06-03</td><td>1.3</td></tr><tr><td>1992-06-04</td><td>1.3</td></tr><tr><td>1992-06-05</td><td>1.3</td></tr><tr><td>&hellip;</td><td>&hellip;</td></tr><tr><td>2025-01-20</td><td>29219.95</td></tr><tr><td>2025-01-21</td><td>29219.95</td></tr><tr><td>2025-01-22</td><td>29219.95</td></tr><tr><td>2025-01-23</td><td>29219.95</td></tr><tr><td>2025-01-24</td><td>29219.95</td></tr></tbody></table></div>"
      ],
      "text/plain": [
       "shape: (11_926, 2)\n",
       "┌────────────┬─────────────────────────────────┐\n",
       "│ date       ┆ cumulative_installed_capacity_… │\n",
       "│ ---        ┆ ---                             │\n",
       "│ date       ┆ f64                             │\n",
       "╞════════════╪═════════════════════════════════╡\n",
       "│ 1992-06-01 ┆ 1.3                             │\n",
       "│ 1992-06-02 ┆ 1.3                             │\n",
       "│ 1992-06-03 ┆ 1.3                             │\n",
       "│ 1992-06-04 ┆ 1.3                             │\n",
       "│ 1992-06-05 ┆ 1.3                             │\n",
       "│ …          ┆ …                               │\n",
       "│ 2025-01-20 ┆ 29219.95                        │\n",
       "│ 2025-01-21 ┆ 29219.95                        │\n",
       "│ 2025-01-22 ┆ 29219.95                        │\n",
       "│ 2025-01-23 ┆ 29219.95                        │\n",
       "│ 2025-01-24 ┆ 29219.95                        │\n",
       "└────────────┴─────────────────────────────────┘"
      ]
     },
     "execution_count": 44,
     "metadata": {},
     "output_type": "execute_result"
    }
   ],
   "source": [
    "rlw = RenewableLocationsWrangler()\n",
    "renewable_locations = rlw.get_renewable_locations()\n",
    "cumulative_installed_capacity = rlw.compute_cumulative_installed_capacity(renewable_locations)\n",
    "cumulative_installed_capacity"
   ]
  },
  {
   "cell_type": "code",
   "execution_count": 45,
   "metadata": {},
   "outputs": [],
   "source": [
    "# Join the cumulative installed capacity to the aggregated generation data\n",
    "aggregated_generation_data = aggregated_generation_data.join(\n",
    "    cumulative_installed_capacity,\n",
    "    left_on='settlementDate',\n",
    "    right_on='date',\n",
    "    how=\"left\"\n",
    "    )\n"
   ]
  },
  {
   "cell_type": "code",
   "execution_count": 46,
   "metadata": {},
   "outputs": [],
   "source": [
    "wind_data = aggregated_generation_data.filter(pl.col(\"name\") == 'Wind')\n",
    "\n",
    "wind_data = wind_data.sort(\"settlementDate\")"
   ]
  },
  {
   "cell_type": "code",
   "execution_count": 47,
   "metadata": {},
   "outputs": [],
   "source": [
    "wind_data = wind_data.with_columns([\n",
    "    (pl.col(\"max_generation\") / pl.col(\"cumulative_installed_capacity_mw\")).alias(\"max_generation_as_percentage_of_installed_capacity\"),\n",
    "])"
   ]
  },
  {
   "cell_type": "code",
   "execution_count": 58,
   "metadata": {},
   "outputs": [
    {
     "data": {
      "text/plain": [
       "3"
      ]
     },
     "execution_count": 58,
     "metadata": {},
     "output_type": "execute_result"
    }
   ],
   "source": [
    "# Count the number of days when max_percentage_of_total_generation > defined percentage\n",
    "THRESHOLD = 0.1\n",
    "count_gt_30 = wind_data.filter(pl.col(\"max_percentage_of_total_generation\") < THRESHOLD)\n",
    "len(count_gt_30)"
   ]
  },
  {
   "cell_type": "code",
   "execution_count": 41,
   "metadata": {},
   "outputs": [
    {
     "data": {
      "text/html": [
       "<div><style>\n",
       ".dataframe > thead > tr,\n",
       ".dataframe > tbody > tr {\n",
       "  text-align: right;\n",
       "  white-space: pre-wrap;\n",
       "}\n",
       "</style>\n",
       "<small>shape: (91, 12)</small><table border=\"1\" class=\"dataframe\"><thead><tr><th>settlementDate</th><th>group</th><th>name</th><th>max_generation</th><th>median_generation</th><th>min_generation</th><th>min_percentage_of_total_generation</th><th>max_percentage_of_total_generation</th><th>median_percentage_of_total_generation</th><th>row_count</th><th>cumulative_installed_capacity_mw</th><th>max_generation_as_percentage_of_installed_capacity</th></tr><tr><td>date</td><td>str</td><td>str</td><td>i64</td><td>f64</td><td>i64</td><td>f64</td><td>f64</td><td>f64</td><td>u32</td><td>f64</td><td>f64</td></tr></thead><tbody><tr><td>2024-10-26</td><td>&quot;Renewable&quot;</td><td>&quot;Wind&quot;</td><td>7949</td><td>7208.5</td><td>6174</td><td>0.258456</td><td>0.460985</td><td>0.352286</td><td>52</td><td>29219.95</td><td>0.27204</td></tr><tr><td>2024-10-27</td><td>&quot;Renewable&quot;</td><td>&quot;Wind&quot;</td><td>12215</td><td>7279.5</td><td>4077</td><td>0.231424</td><td>0.586669</td><td>0.372612</td><td>300</td><td>29219.95</td><td>0.418036</td></tr><tr><td>2024-10-28</td><td>&quot;Renewable&quot;</td><td>&quot;Wind&quot;</td><td>11412</td><td>7706.0</td><td>2566</td><td>0.120221</td><td>0.588208</td><td>0.279011</td><td>288</td><td>29219.95</td><td>0.390555</td></tr><tr><td>2024-10-29</td><td>&quot;Renewable&quot;</td><td>&quot;Wind&quot;</td><td>4391</td><td>3326.5</td><td>1535</td><td>0.071088</td><td>0.218532</td><td>0.131138</td><td>288</td><td>29219.95</td><td>0.150274</td></tr><tr><td>2024-10-30</td><td>&quot;Renewable&quot;</td><td>&quot;Wind&quot;</td><td>5377</td><td>1688.5</td><td>1238</td><td>0.046143</td><td>0.296859</td><td>0.086098</td><td>288</td><td>29219.95</td><td>0.184018</td></tr><tr><td>&hellip;</td><td>&hellip;</td><td>&hellip;</td><td>&hellip;</td><td>&hellip;</td><td>&hellip;</td><td>&hellip;</td><td>&hellip;</td><td>&hellip;</td><td>&hellip;</td><td>&hellip;</td><td>&hellip;</td></tr><tr><td>2025-01-20</td><td>&quot;Renewable&quot;</td><td>&quot;Wind&quot;</td><td>3608</td><td>2442.5</td><td>1561</td><td>0.041682</td><td>0.112297</td><td>0.070898</td><td>288</td><td>29219.95</td><td>0.123477</td></tr><tr><td>2025-01-21</td><td>&quot;Renewable&quot;</td><td>&quot;Wind&quot;</td><td>4640</td><td>3558.0</td><td>1076</td><td>0.036503</td><td>0.134531</td><td>0.102808</td><td>288</td><td>29219.95</td><td>0.158796</td></tr><tr><td>2025-01-22</td><td>&quot;Renewable&quot;</td><td>&quot;Wind&quot;</td><td>2622</td><td>339.0</td><td>84</td><td>0.002335</td><td>0.104704</td><td>0.010714</td><td>288</td><td>29219.95</td><td>0.089733</td></tr><tr><td>2025-01-23</td><td>&quot;Renewable&quot;</td><td>&quot;Wind&quot;</td><td>15142</td><td>12096.5</td><td>2662</td><td>0.105245</td><td>0.60881</td><td>0.342363</td><td>288</td><td>29219.95</td><td>0.518208</td></tr><tr><td>2025-01-24</td><td>&quot;Renewable&quot;</td><td>&quot;Wind&quot;</td><td>15755</td><td>12725.5</td><td>11976</td><td>0.380641</td><td>0.656258</td><td>0.426387</td><td>224</td><td>29219.95</td><td>0.539186</td></tr></tbody></table></div>"
      ],
      "text/plain": [
       "shape: (91, 12)\n",
       "┌────────────┬───────────┬──────┬────────────┬───┬────────────┬───────────┬────────────┬───────────┐\n",
       "│ settlement ┆ group     ┆ name ┆ max_genera ┆ … ┆ median_per ┆ row_count ┆ cumulative ┆ max_gener │\n",
       "│ Date       ┆ ---       ┆ ---  ┆ tion       ┆   ┆ centage_of ┆ ---       ┆ _installed ┆ ation_as_ │\n",
       "│ ---        ┆ str       ┆ str  ┆ ---        ┆   ┆ _total_gen ┆ u32       ┆ _capacity_ ┆ percentag │\n",
       "│ date       ┆           ┆      ┆ i64        ┆   ┆ …          ┆           ┆ …          ┆ e_o…      │\n",
       "│            ┆           ┆      ┆            ┆   ┆ ---        ┆           ┆ ---        ┆ ---       │\n",
       "│            ┆           ┆      ┆            ┆   ┆ f64        ┆           ┆ f64        ┆ f64       │\n",
       "╞════════════╪═══════════╪══════╪════════════╪═══╪════════════╪═══════════╪════════════╪═══════════╡\n",
       "│ 2024-10-26 ┆ Renewable ┆ Wind ┆ 7949       ┆ … ┆ 0.352286   ┆ 52        ┆ 29219.95   ┆ 0.27204   │\n",
       "│ 2024-10-27 ┆ Renewable ┆ Wind ┆ 12215      ┆ … ┆ 0.372612   ┆ 300       ┆ 29219.95   ┆ 0.418036  │\n",
       "│ 2024-10-28 ┆ Renewable ┆ Wind ┆ 11412      ┆ … ┆ 0.279011   ┆ 288       ┆ 29219.95   ┆ 0.390555  │\n",
       "│ 2024-10-29 ┆ Renewable ┆ Wind ┆ 4391       ┆ … ┆ 0.131138   ┆ 288       ┆ 29219.95   ┆ 0.150274  │\n",
       "│ 2024-10-30 ┆ Renewable ┆ Wind ┆ 5377       ┆ … ┆ 0.086098   ┆ 288       ┆ 29219.95   ┆ 0.184018  │\n",
       "│ …          ┆ …         ┆ …    ┆ …          ┆ … ┆ …          ┆ …         ┆ …          ┆ …         │\n",
       "│ 2025-01-20 ┆ Renewable ┆ Wind ┆ 3608       ┆ … ┆ 0.070898   ┆ 288       ┆ 29219.95   ┆ 0.123477  │\n",
       "│ 2025-01-21 ┆ Renewable ┆ Wind ┆ 4640       ┆ … ┆ 0.102808   ┆ 288       ┆ 29219.95   ┆ 0.158796  │\n",
       "│ 2025-01-22 ┆ Renewable ┆ Wind ┆ 2622       ┆ … ┆ 0.010714   ┆ 288       ┆ 29219.95   ┆ 0.089733  │\n",
       "│ 2025-01-23 ┆ Renewable ┆ Wind ┆ 15142      ┆ … ┆ 0.342363   ┆ 288       ┆ 29219.95   ┆ 0.518208  │\n",
       "│ 2025-01-24 ┆ Renewable ┆ Wind ┆ 15755      ┆ … ┆ 0.426387   ┆ 224       ┆ 29219.95   ┆ 0.539186  │\n",
       "└────────────┴───────────┴──────┴────────────┴───┴────────────┴───────────┴────────────┴───────────┘"
      ]
     },
     "execution_count": 41,
     "metadata": {},
     "output_type": "execute_result"
    }
   ],
   "source": [
    "wind_data"
   ]
  },
  {
   "cell_type": "code",
   "execution_count": 39,
   "metadata": {},
   "outputs": [
    {
     "data": {
      "application/vnd.plotly.v1+json": {
       "config": {
        "plotlyServerURL": "https://plot.ly"
       },
       "data": [
        {
         "mode": "lines",
         "name": "Max Generation as Percentage of Installed Capacity",
         "type": "scatter",
         "x": [
          "2024-10-26",
          "2024-10-27",
          "2024-10-28",
          "2024-10-29",
          "2024-10-30",
          "2024-10-31",
          "2024-11-01",
          "2024-11-02",
          "2024-11-03",
          "2024-11-04",
          "2024-11-05",
          "2024-11-06",
          "2024-11-07",
          "2024-11-08",
          "2024-11-09",
          "2024-11-10",
          "2024-11-11",
          "2024-11-12",
          "2024-11-13",
          "2024-11-14",
          "2024-11-15",
          "2024-11-16",
          "2024-11-17",
          "2024-11-18",
          "2024-11-19",
          "2024-11-20",
          "2024-11-21",
          "2024-11-22",
          "2024-11-23",
          "2024-11-24",
          "2024-11-25",
          "2024-11-26",
          "2024-11-27",
          "2024-11-28",
          "2024-11-29",
          "2024-11-30",
          "2024-12-01",
          "2024-12-02",
          "2024-12-03",
          "2024-12-04",
          "2024-12-05",
          "2024-12-06",
          "2024-12-07",
          "2024-12-08",
          "2024-12-09",
          "2024-12-10",
          "2024-12-11",
          "2024-12-12",
          "2024-12-13",
          "2024-12-14",
          "2024-12-15",
          "2024-12-16",
          "2024-12-17",
          "2024-12-18",
          "2024-12-19",
          "2024-12-20",
          "2024-12-21",
          "2024-12-22",
          "2024-12-23",
          "2024-12-24",
          "2024-12-25",
          "2024-12-26",
          "2024-12-27",
          "2024-12-28",
          "2024-12-29",
          "2024-12-30",
          "2024-12-31",
          "2025-01-01",
          "2025-01-02",
          "2025-01-03",
          "2025-01-04",
          "2025-01-05",
          "2025-01-06",
          "2025-01-07",
          "2025-01-08",
          "2025-01-09",
          "2025-01-10",
          "2025-01-11",
          "2025-01-12",
          "2025-01-13",
          "2025-01-14",
          "2025-01-15",
          "2025-01-16",
          "2025-01-17",
          "2025-01-18",
          "2025-01-19",
          "2025-01-20",
          "2025-01-21",
          "2025-01-22",
          "2025-01-23",
          "2025-01-24"
         ],
         "y": [
          0.2720401643397746,
          0.4180363073858784,
          0.3905550830853577,
          0.15027404222115365,
          0.18401811091394743,
          0.28004839159546807,
          0.23685872152416407,
          0.17758415055467236,
          0.09924726086115819,
          0.0825121192883629,
          0.05663938507766097,
          0.14099955680964543,
          0.2568108432765969,
          0.20612629385060544,
          0.09472979933230546,
          0.3220744730911585,
          0.34924768865107564,
          0.2902126800353867,
          0.1806984611541087,
          0.229740297296881,
          0.43456610979827126,
          0.44079473099714395,
          0.43080155852422736,
          0.28706414624254994,
          0.49151350361653584,
          0.47861135970458524,
          0.5013355601224504,
          0.49072637016832665,
          0.5493849236566112,
          0.534634727301039,
          0.5525334574494479,
          0.45147236733806856,
          0.328371540676832,
          0.3690286944365065,
          0.5554082056950814,
          0.5027387110518668,
          0.5098229120857495,
          0.44551753168639907,
          0.2638265979236788,
          0.5367907884852642,
          0.568481465574034,
          0.5434985343917424,
          0.5145114895816042,
          0.5254971346631324,
          0.4484949495122338,
          0.3126973180994491,
          0.1585218318306499,
          0.07854222885391657,
          0.18371010217334385,
          0.4821363486248264,
          0.5894945063218793,
          0.5789195395611558,
          0.593498619949726,
          0.5736833909708947,
          0.5593780961295278,
          0.5711850978526656,
          0.5716299993668708,
          0.5743336316455023,
          0.5680707872532292,
          0.4703977932884894,
          0.32635237226620845,
          0.19206056136304128,
          0.10759772005085563,
          0.28299158622790244,
          0.4768659768411649,
          0.5027044878584664,
          0.5517463240012387,
          0.5460652738967724,
          0.44565442446000064,
          0.48658536376687833,
          0.27152681643876864,
          0.4335051908028589,
          0.5052712273634964,
          0.5083513147695323,
          0.46016505846177,
          0.4338816459302633,
          0.29226607163941065,
          0.13340200787475676,
          0.33258099346508113,
          0.5032520589528728,
          0.446715343455413,
          0.2774474288970377,
          0.3447986735090237,
          0.36858379292230126,
          0.2504453293041226,
          0.12754984180328846,
          0.12347728178864095,
          0.1587956173778531,
          0.08973321309584716,
          0.5182075944688473,
          0.5391864120232922
         ]
        },
        {
         "mode": "lines",
         "name": "Max Percentage of Total Generation",
         "type": "scatter",
         "x": [
          "2024-10-26",
          "2024-10-27",
          "2024-10-28",
          "2024-10-29",
          "2024-10-30",
          "2024-10-31",
          "2024-11-01",
          "2024-11-02",
          "2024-11-03",
          "2024-11-04",
          "2024-11-05",
          "2024-11-06",
          "2024-11-07",
          "2024-11-08",
          "2024-11-09",
          "2024-11-10",
          "2024-11-11",
          "2024-11-12",
          "2024-11-13",
          "2024-11-14",
          "2024-11-15",
          "2024-11-16",
          "2024-11-17",
          "2024-11-18",
          "2024-11-19",
          "2024-11-20",
          "2024-11-21",
          "2024-11-22",
          "2024-11-23",
          "2024-11-24",
          "2024-11-25",
          "2024-11-26",
          "2024-11-27",
          "2024-11-28",
          "2024-11-29",
          "2024-11-30",
          "2024-12-01",
          "2024-12-02",
          "2024-12-03",
          "2024-12-04",
          "2024-12-05",
          "2024-12-06",
          "2024-12-07",
          "2024-12-08",
          "2024-12-09",
          "2024-12-10",
          "2024-12-11",
          "2024-12-12",
          "2024-12-13",
          "2024-12-14",
          "2024-12-15",
          "2024-12-16",
          "2024-12-17",
          "2024-12-18",
          "2024-12-19",
          "2024-12-20",
          "2024-12-21",
          "2024-12-22",
          "2024-12-23",
          "2024-12-24",
          "2024-12-25",
          "2024-12-26",
          "2024-12-27",
          "2024-12-28",
          "2024-12-29",
          "2024-12-30",
          "2024-12-31",
          "2025-01-01",
          "2025-01-02",
          "2025-01-03",
          "2025-01-04",
          "2025-01-05",
          "2025-01-06",
          "2025-01-07",
          "2025-01-08",
          "2025-01-09",
          "2025-01-10",
          "2025-01-11",
          "2025-01-12",
          "2025-01-13",
          "2025-01-14",
          "2025-01-15",
          "2025-01-16",
          "2025-01-17",
          "2025-01-18",
          "2025-01-19",
          "2025-01-20",
          "2025-01-21",
          "2025-01-22",
          "2025-01-23",
          "2025-01-24"
         ],
         "y": [
          0.46098509021291406,
          0.5866694395341583,
          0.5882079851439183,
          0.21853184991273997,
          0.29685860983823775,
          0.37940806045340053,
          0.4106813996316759,
          0.22478063718273364,
          0.1600907029478458,
          0.09862740204641876,
          0.062480523527578685,
          0.18092149709498717,
          0.2736309654717396,
          0.2717715007670788,
          0.13359528487229863,
          0.4498350939247646,
          0.4945720655229233,
          0.39937046004842613,
          0.25127686229160645,
          0.2950716802625863,
          0.5138673627538951,
          0.5768385383276857,
          0.5787913868951146,
          0.43983010854176496,
          0.576875028917781,
          0.6016623469478952,
          0.5700967946683593,
          0.5763032032474579,
          0.6486269878095078,
          0.6362793051104739,
          0.6314899374260105,
          0.6163095650452769,
          0.27946402563355666,
          0.4689076361106279,
          0.671263426178773,
          0.6706231454005934,
          0.6517494256935854,
          0.6163602752387799,
          0.3592432079780046,
          0.5666900084767627,
          0.6625831150513802,
          0.6551623159303882,
          0.6296001341269176,
          0.631217987672541,
          0.6087684225208052,
          0.41472942992186745,
          0.1449284598961155,
          0.07057663266249577,
          0.20090572251955538,
          0.6262635419971896,
          0.6416311727744275,
          0.6460365733243809,
          0.6095825426944972,
          0.6266711859300267,
          0.6290105828993785,
          0.6133991598458274,
          0.6147129365912157,
          0.6517534661540254,
          0.6648026450059186,
          0.5091821603741302,
          0.4558317399617591,
          0.3642448661294515,
          0.1382948790095667,
          0.3227921646746348,
          0.5530778475096809,
          0.5844155844155844,
          0.6013074394066825,
          0.6324244966442953,
          0.5388252029118902,
          0.5958677339591802,
          0.3619690679319312,
          0.5807667555392112,
          0.5971762629605118,
          0.5491419656786272,
          0.5050409696786617,
          0.32285498299105453,
          0.30318091451292245,
          0.11373442969958479,
          0.3698554605962743,
          0.4477423429112725,
          0.45539429970274525,
          0.2461928015916079,
          0.33796522326961353,
          0.35095129518184875,
          0.24069809283915078,
          0.14134021009518752,
          0.11229730150331477,
          0.13453104187648224,
          0.1047040971168437,
          0.6088098148399655,
          0.6562579984642949
         ]
        }
       ],
       "layout": {
        "autosize": true,
        "height": 800,
        "template": {
         "data": {
          "bar": [
           {
            "error_x": {
             "color": "#2a3f5f"
            },
            "error_y": {
             "color": "#2a3f5f"
            },
            "marker": {
             "line": {
              "color": "#E5ECF6",
              "width": 0.5
             },
             "pattern": {
              "fillmode": "overlay",
              "size": 10,
              "solidity": 0.2
             }
            },
            "type": "bar"
           }
          ],
          "barpolar": [
           {
            "marker": {
             "line": {
              "color": "#E5ECF6",
              "width": 0.5
             },
             "pattern": {
              "fillmode": "overlay",
              "size": 10,
              "solidity": 0.2
             }
            },
            "type": "barpolar"
           }
          ],
          "carpet": [
           {
            "aaxis": {
             "endlinecolor": "#2a3f5f",
             "gridcolor": "white",
             "linecolor": "white",
             "minorgridcolor": "white",
             "startlinecolor": "#2a3f5f"
            },
            "baxis": {
             "endlinecolor": "#2a3f5f",
             "gridcolor": "white",
             "linecolor": "white",
             "minorgridcolor": "white",
             "startlinecolor": "#2a3f5f"
            },
            "type": "carpet"
           }
          ],
          "choropleth": [
           {
            "colorbar": {
             "outlinewidth": 0,
             "ticks": ""
            },
            "type": "choropleth"
           }
          ],
          "contour": [
           {
            "colorbar": {
             "outlinewidth": 0,
             "ticks": ""
            },
            "colorscale": [
             [
              0,
              "#0d0887"
             ],
             [
              0.1111111111111111,
              "#46039f"
             ],
             [
              0.2222222222222222,
              "#7201a8"
             ],
             [
              0.3333333333333333,
              "#9c179e"
             ],
             [
              0.4444444444444444,
              "#bd3786"
             ],
             [
              0.5555555555555556,
              "#d8576b"
             ],
             [
              0.6666666666666666,
              "#ed7953"
             ],
             [
              0.7777777777777778,
              "#fb9f3a"
             ],
             [
              0.8888888888888888,
              "#fdca26"
             ],
             [
              1,
              "#f0f921"
             ]
            ],
            "type": "contour"
           }
          ],
          "contourcarpet": [
           {
            "colorbar": {
             "outlinewidth": 0,
             "ticks": ""
            },
            "type": "contourcarpet"
           }
          ],
          "heatmap": [
           {
            "colorbar": {
             "outlinewidth": 0,
             "ticks": ""
            },
            "colorscale": [
             [
              0,
              "#0d0887"
             ],
             [
              0.1111111111111111,
              "#46039f"
             ],
             [
              0.2222222222222222,
              "#7201a8"
             ],
             [
              0.3333333333333333,
              "#9c179e"
             ],
             [
              0.4444444444444444,
              "#bd3786"
             ],
             [
              0.5555555555555556,
              "#d8576b"
             ],
             [
              0.6666666666666666,
              "#ed7953"
             ],
             [
              0.7777777777777778,
              "#fb9f3a"
             ],
             [
              0.8888888888888888,
              "#fdca26"
             ],
             [
              1,
              "#f0f921"
             ]
            ],
            "type": "heatmap"
           }
          ],
          "heatmapgl": [
           {
            "colorbar": {
             "outlinewidth": 0,
             "ticks": ""
            },
            "colorscale": [
             [
              0,
              "#0d0887"
             ],
             [
              0.1111111111111111,
              "#46039f"
             ],
             [
              0.2222222222222222,
              "#7201a8"
             ],
             [
              0.3333333333333333,
              "#9c179e"
             ],
             [
              0.4444444444444444,
              "#bd3786"
             ],
             [
              0.5555555555555556,
              "#d8576b"
             ],
             [
              0.6666666666666666,
              "#ed7953"
             ],
             [
              0.7777777777777778,
              "#fb9f3a"
             ],
             [
              0.8888888888888888,
              "#fdca26"
             ],
             [
              1,
              "#f0f921"
             ]
            ],
            "type": "heatmapgl"
           }
          ],
          "histogram": [
           {
            "marker": {
             "pattern": {
              "fillmode": "overlay",
              "size": 10,
              "solidity": 0.2
             }
            },
            "type": "histogram"
           }
          ],
          "histogram2d": [
           {
            "colorbar": {
             "outlinewidth": 0,
             "ticks": ""
            },
            "colorscale": [
             [
              0,
              "#0d0887"
             ],
             [
              0.1111111111111111,
              "#46039f"
             ],
             [
              0.2222222222222222,
              "#7201a8"
             ],
             [
              0.3333333333333333,
              "#9c179e"
             ],
             [
              0.4444444444444444,
              "#bd3786"
             ],
             [
              0.5555555555555556,
              "#d8576b"
             ],
             [
              0.6666666666666666,
              "#ed7953"
             ],
             [
              0.7777777777777778,
              "#fb9f3a"
             ],
             [
              0.8888888888888888,
              "#fdca26"
             ],
             [
              1,
              "#f0f921"
             ]
            ],
            "type": "histogram2d"
           }
          ],
          "histogram2dcontour": [
           {
            "colorbar": {
             "outlinewidth": 0,
             "ticks": ""
            },
            "colorscale": [
             [
              0,
              "#0d0887"
             ],
             [
              0.1111111111111111,
              "#46039f"
             ],
             [
              0.2222222222222222,
              "#7201a8"
             ],
             [
              0.3333333333333333,
              "#9c179e"
             ],
             [
              0.4444444444444444,
              "#bd3786"
             ],
             [
              0.5555555555555556,
              "#d8576b"
             ],
             [
              0.6666666666666666,
              "#ed7953"
             ],
             [
              0.7777777777777778,
              "#fb9f3a"
             ],
             [
              0.8888888888888888,
              "#fdca26"
             ],
             [
              1,
              "#f0f921"
             ]
            ],
            "type": "histogram2dcontour"
           }
          ],
          "mesh3d": [
           {
            "colorbar": {
             "outlinewidth": 0,
             "ticks": ""
            },
            "type": "mesh3d"
           }
          ],
          "parcoords": [
           {
            "line": {
             "colorbar": {
              "outlinewidth": 0,
              "ticks": ""
             }
            },
            "type": "parcoords"
           }
          ],
          "pie": [
           {
            "automargin": true,
            "type": "pie"
           }
          ],
          "scatter": [
           {
            "fillpattern": {
             "fillmode": "overlay",
             "size": 10,
             "solidity": 0.2
            },
            "type": "scatter"
           }
          ],
          "scatter3d": [
           {
            "line": {
             "colorbar": {
              "outlinewidth": 0,
              "ticks": ""
             }
            },
            "marker": {
             "colorbar": {
              "outlinewidth": 0,
              "ticks": ""
             }
            },
            "type": "scatter3d"
           }
          ],
          "scattercarpet": [
           {
            "marker": {
             "colorbar": {
              "outlinewidth": 0,
              "ticks": ""
             }
            },
            "type": "scattercarpet"
           }
          ],
          "scattergeo": [
           {
            "marker": {
             "colorbar": {
              "outlinewidth": 0,
              "ticks": ""
             }
            },
            "type": "scattergeo"
           }
          ],
          "scattergl": [
           {
            "marker": {
             "colorbar": {
              "outlinewidth": 0,
              "ticks": ""
             }
            },
            "type": "scattergl"
           }
          ],
          "scattermapbox": [
           {
            "marker": {
             "colorbar": {
              "outlinewidth": 0,
              "ticks": ""
             }
            },
            "type": "scattermapbox"
           }
          ],
          "scatterpolar": [
           {
            "marker": {
             "colorbar": {
              "outlinewidth": 0,
              "ticks": ""
             }
            },
            "type": "scatterpolar"
           }
          ],
          "scatterpolargl": [
           {
            "marker": {
             "colorbar": {
              "outlinewidth": 0,
              "ticks": ""
             }
            },
            "type": "scatterpolargl"
           }
          ],
          "scatterternary": [
           {
            "marker": {
             "colorbar": {
              "outlinewidth": 0,
              "ticks": ""
             }
            },
            "type": "scatterternary"
           }
          ],
          "surface": [
           {
            "colorbar": {
             "outlinewidth": 0,
             "ticks": ""
            },
            "colorscale": [
             [
              0,
              "#0d0887"
             ],
             [
              0.1111111111111111,
              "#46039f"
             ],
             [
              0.2222222222222222,
              "#7201a8"
             ],
             [
              0.3333333333333333,
              "#9c179e"
             ],
             [
              0.4444444444444444,
              "#bd3786"
             ],
             [
              0.5555555555555556,
              "#d8576b"
             ],
             [
              0.6666666666666666,
              "#ed7953"
             ],
             [
              0.7777777777777778,
              "#fb9f3a"
             ],
             [
              0.8888888888888888,
              "#fdca26"
             ],
             [
              1,
              "#f0f921"
             ]
            ],
            "type": "surface"
           }
          ],
          "table": [
           {
            "cells": {
             "fill": {
              "color": "#EBF0F8"
             },
             "line": {
              "color": "white"
             }
            },
            "header": {
             "fill": {
              "color": "#C8D4E3"
             },
             "line": {
              "color": "white"
             }
            },
            "type": "table"
           }
          ]
         },
         "layout": {
          "annotationdefaults": {
           "arrowcolor": "#2a3f5f",
           "arrowhead": 0,
           "arrowwidth": 1
          },
          "autotypenumbers": "strict",
          "coloraxis": {
           "colorbar": {
            "outlinewidth": 0,
            "ticks": ""
           }
          },
          "colorscale": {
           "diverging": [
            [
             0,
             "#8e0152"
            ],
            [
             0.1,
             "#c51b7d"
            ],
            [
             0.2,
             "#de77ae"
            ],
            [
             0.3,
             "#f1b6da"
            ],
            [
             0.4,
             "#fde0ef"
            ],
            [
             0.5,
             "#f7f7f7"
            ],
            [
             0.6,
             "#e6f5d0"
            ],
            [
             0.7,
             "#b8e186"
            ],
            [
             0.8,
             "#7fbc41"
            ],
            [
             0.9,
             "#4d9221"
            ],
            [
             1,
             "#276419"
            ]
           ],
           "sequential": [
            [
             0,
             "#0d0887"
            ],
            [
             0.1111111111111111,
             "#46039f"
            ],
            [
             0.2222222222222222,
             "#7201a8"
            ],
            [
             0.3333333333333333,
             "#9c179e"
            ],
            [
             0.4444444444444444,
             "#bd3786"
            ],
            [
             0.5555555555555556,
             "#d8576b"
            ],
            [
             0.6666666666666666,
             "#ed7953"
            ],
            [
             0.7777777777777778,
             "#fb9f3a"
            ],
            [
             0.8888888888888888,
             "#fdca26"
            ],
            [
             1,
             "#f0f921"
            ]
           ],
           "sequentialminus": [
            [
             0,
             "#0d0887"
            ],
            [
             0.1111111111111111,
             "#46039f"
            ],
            [
             0.2222222222222222,
             "#7201a8"
            ],
            [
             0.3333333333333333,
             "#9c179e"
            ],
            [
             0.4444444444444444,
             "#bd3786"
            ],
            [
             0.5555555555555556,
             "#d8576b"
            ],
            [
             0.6666666666666666,
             "#ed7953"
            ],
            [
             0.7777777777777778,
             "#fb9f3a"
            ],
            [
             0.8888888888888888,
             "#fdca26"
            ],
            [
             1,
             "#f0f921"
            ]
           ]
          },
          "colorway": [
           "#636efa",
           "#EF553B",
           "#00cc96",
           "#ab63fa",
           "#FFA15A",
           "#19d3f3",
           "#FF6692",
           "#B6E880",
           "#FF97FF",
           "#FECB52"
          ],
          "font": {
           "color": "#2a3f5f"
          },
          "geo": {
           "bgcolor": "white",
           "lakecolor": "white",
           "landcolor": "#E5ECF6",
           "showlakes": true,
           "showland": true,
           "subunitcolor": "white"
          },
          "hoverlabel": {
           "align": "left"
          },
          "hovermode": "closest",
          "mapbox": {
           "style": "light"
          },
          "paper_bgcolor": "white",
          "plot_bgcolor": "#E5ECF6",
          "polar": {
           "angularaxis": {
            "gridcolor": "white",
            "linecolor": "white",
            "ticks": ""
           },
           "bgcolor": "#E5ECF6",
           "radialaxis": {
            "gridcolor": "white",
            "linecolor": "white",
            "ticks": ""
           }
          },
          "scene": {
           "xaxis": {
            "backgroundcolor": "#E5ECF6",
            "gridcolor": "white",
            "gridwidth": 2,
            "linecolor": "white",
            "showbackground": true,
            "ticks": "",
            "zerolinecolor": "white"
           },
           "yaxis": {
            "backgroundcolor": "#E5ECF6",
            "gridcolor": "white",
            "gridwidth": 2,
            "linecolor": "white",
            "showbackground": true,
            "ticks": "",
            "zerolinecolor": "white"
           },
           "zaxis": {
            "backgroundcolor": "#E5ECF6",
            "gridcolor": "white",
            "gridwidth": 2,
            "linecolor": "white",
            "showbackground": true,
            "ticks": "",
            "zerolinecolor": "white"
           }
          },
          "shapedefaults": {
           "line": {
            "color": "#2a3f5f"
           }
          },
          "ternary": {
           "aaxis": {
            "gridcolor": "white",
            "linecolor": "white",
            "ticks": ""
           },
           "baxis": {
            "gridcolor": "white",
            "linecolor": "white",
            "ticks": ""
           },
           "bgcolor": "#E5ECF6",
           "caxis": {
            "gridcolor": "white",
            "linecolor": "white",
            "ticks": ""
           }
          },
          "title": {
           "x": 0.05
          },
          "xaxis": {
           "automargin": true,
           "gridcolor": "white",
           "linecolor": "white",
           "ticks": "",
           "title": {
            "standoff": 15
           },
           "zerolinecolor": "white",
           "zerolinewidth": 2
          },
          "yaxis": {
           "automargin": true,
           "gridcolor": "white",
           "linecolor": "white",
           "ticks": "",
           "title": {
            "standoff": 15
           },
           "zerolinecolor": "white",
           "zerolinewidth": 2
          }
         }
        },
        "title": {
         "text": "Max Generation as Percentage of Installed Capacity"
        },
        "width": 1200,
        "xaxis": {
         "title": {
          "text": "Settlement Date"
         }
        },
        "yaxis": {
         "title": {
          "text": "Percentage"
         }
        }
       }
      },
      "text/html": [
       "<div>                            <div id=\"ecdcb705-5d73-4505-998f-afb0531e2c1b\" class=\"plotly-graph-div\" style=\"height:800px; width:1200px;\"></div>            <script type=\"text/javascript\">                require([\"plotly\"], function(Plotly) {                    window.PLOTLYENV=window.PLOTLYENV || {};                                    if (document.getElementById(\"ecdcb705-5d73-4505-998f-afb0531e2c1b\")) {                    Plotly.newPlot(                        \"ecdcb705-5d73-4505-998f-afb0531e2c1b\",                        [{\"mode\":\"lines\",\"name\":\"Max Generation as Percentage of Installed Capacity\",\"x\":[\"2024-10-26\",\"2024-10-27\",\"2024-10-28\",\"2024-10-29\",\"2024-10-30\",\"2024-10-31\",\"2024-11-01\",\"2024-11-02\",\"2024-11-03\",\"2024-11-04\",\"2024-11-05\",\"2024-11-06\",\"2024-11-07\",\"2024-11-08\",\"2024-11-09\",\"2024-11-10\",\"2024-11-11\",\"2024-11-12\",\"2024-11-13\",\"2024-11-14\",\"2024-11-15\",\"2024-11-16\",\"2024-11-17\",\"2024-11-18\",\"2024-11-19\",\"2024-11-20\",\"2024-11-21\",\"2024-11-22\",\"2024-11-23\",\"2024-11-24\",\"2024-11-25\",\"2024-11-26\",\"2024-11-27\",\"2024-11-28\",\"2024-11-29\",\"2024-11-30\",\"2024-12-01\",\"2024-12-02\",\"2024-12-03\",\"2024-12-04\",\"2024-12-05\",\"2024-12-06\",\"2024-12-07\",\"2024-12-08\",\"2024-12-09\",\"2024-12-10\",\"2024-12-11\",\"2024-12-12\",\"2024-12-13\",\"2024-12-14\",\"2024-12-15\",\"2024-12-16\",\"2024-12-17\",\"2024-12-18\",\"2024-12-19\",\"2024-12-20\",\"2024-12-21\",\"2024-12-22\",\"2024-12-23\",\"2024-12-24\",\"2024-12-25\",\"2024-12-26\",\"2024-12-27\",\"2024-12-28\",\"2024-12-29\",\"2024-12-30\",\"2024-12-31\",\"2025-01-01\",\"2025-01-02\",\"2025-01-03\",\"2025-01-04\",\"2025-01-05\",\"2025-01-06\",\"2025-01-07\",\"2025-01-08\",\"2025-01-09\",\"2025-01-10\",\"2025-01-11\",\"2025-01-12\",\"2025-01-13\",\"2025-01-14\",\"2025-01-15\",\"2025-01-16\",\"2025-01-17\",\"2025-01-18\",\"2025-01-19\",\"2025-01-20\",\"2025-01-21\",\"2025-01-22\",\"2025-01-23\",\"2025-01-24\"],\"y\":[0.2720401643397746,0.4180363073858784,0.3905550830853577,0.15027404222115365,0.18401811091394743,0.28004839159546807,0.23685872152416407,0.17758415055467236,0.09924726086115819,0.0825121192883629,0.05663938507766097,0.14099955680964543,0.2568108432765969,0.20612629385060544,0.09472979933230546,0.3220744730911585,0.34924768865107564,0.2902126800353867,0.1806984611541087,0.229740297296881,0.43456610979827126,0.44079473099714395,0.43080155852422736,0.28706414624254994,0.49151350361653584,0.47861135970458524,0.5013355601224504,0.49072637016832665,0.5493849236566112,0.534634727301039,0.5525334574494479,0.45147236733806856,0.328371540676832,0.3690286944365065,0.5554082056950814,0.5027387110518668,0.5098229120857495,0.44551753168639907,0.2638265979236788,0.5367907884852642,0.568481465574034,0.5434985343917424,0.5145114895816042,0.5254971346631324,0.4484949495122338,0.3126973180994491,0.1585218318306499,0.07854222885391657,0.18371010217334385,0.4821363486248264,0.5894945063218793,0.5789195395611558,0.593498619949726,0.5736833909708947,0.5593780961295278,0.5711850978526656,0.5716299993668708,0.5743336316455023,0.5680707872532292,0.4703977932884894,0.32635237226620845,0.19206056136304128,0.10759772005085563,0.28299158622790244,0.4768659768411649,0.5027044878584664,0.5517463240012387,0.5460652738967724,0.44565442446000064,0.48658536376687833,0.27152681643876864,0.4335051908028589,0.5052712273634964,0.5083513147695323,0.46016505846177,0.4338816459302633,0.29226607163941065,0.13340200787475676,0.33258099346508113,0.5032520589528728,0.446715343455413,0.2774474288970377,0.3447986735090237,0.36858379292230126,0.2504453293041226,0.12754984180328846,0.12347728178864095,0.1587956173778531,0.08973321309584716,0.5182075944688473,0.5391864120232922],\"type\":\"scatter\"},{\"mode\":\"lines\",\"name\":\"Max Percentage of Total Generation\",\"x\":[\"2024-10-26\",\"2024-10-27\",\"2024-10-28\",\"2024-10-29\",\"2024-10-30\",\"2024-10-31\",\"2024-11-01\",\"2024-11-02\",\"2024-11-03\",\"2024-11-04\",\"2024-11-05\",\"2024-11-06\",\"2024-11-07\",\"2024-11-08\",\"2024-11-09\",\"2024-11-10\",\"2024-11-11\",\"2024-11-12\",\"2024-11-13\",\"2024-11-14\",\"2024-11-15\",\"2024-11-16\",\"2024-11-17\",\"2024-11-18\",\"2024-11-19\",\"2024-11-20\",\"2024-11-21\",\"2024-11-22\",\"2024-11-23\",\"2024-11-24\",\"2024-11-25\",\"2024-11-26\",\"2024-11-27\",\"2024-11-28\",\"2024-11-29\",\"2024-11-30\",\"2024-12-01\",\"2024-12-02\",\"2024-12-03\",\"2024-12-04\",\"2024-12-05\",\"2024-12-06\",\"2024-12-07\",\"2024-12-08\",\"2024-12-09\",\"2024-12-10\",\"2024-12-11\",\"2024-12-12\",\"2024-12-13\",\"2024-12-14\",\"2024-12-15\",\"2024-12-16\",\"2024-12-17\",\"2024-12-18\",\"2024-12-19\",\"2024-12-20\",\"2024-12-21\",\"2024-12-22\",\"2024-12-23\",\"2024-12-24\",\"2024-12-25\",\"2024-12-26\",\"2024-12-27\",\"2024-12-28\",\"2024-12-29\",\"2024-12-30\",\"2024-12-31\",\"2025-01-01\",\"2025-01-02\",\"2025-01-03\",\"2025-01-04\",\"2025-01-05\",\"2025-01-06\",\"2025-01-07\",\"2025-01-08\",\"2025-01-09\",\"2025-01-10\",\"2025-01-11\",\"2025-01-12\",\"2025-01-13\",\"2025-01-14\",\"2025-01-15\",\"2025-01-16\",\"2025-01-17\",\"2025-01-18\",\"2025-01-19\",\"2025-01-20\",\"2025-01-21\",\"2025-01-22\",\"2025-01-23\",\"2025-01-24\"],\"y\":[0.46098509021291406,0.5866694395341583,0.5882079851439183,0.21853184991273997,0.29685860983823775,0.37940806045340053,0.4106813996316759,0.22478063718273364,0.1600907029478458,0.09862740204641876,0.062480523527578685,0.18092149709498717,0.2736309654717396,0.2717715007670788,0.13359528487229863,0.4498350939247646,0.4945720655229233,0.39937046004842613,0.25127686229160645,0.2950716802625863,0.5138673627538951,0.5768385383276857,0.5787913868951146,0.43983010854176496,0.576875028917781,0.6016623469478952,0.5700967946683593,0.5763032032474579,0.6486269878095078,0.6362793051104739,0.6314899374260105,0.6163095650452769,0.27946402563355666,0.4689076361106279,0.671263426178773,0.6706231454005934,0.6517494256935854,0.6163602752387799,0.3592432079780046,0.5666900084767627,0.6625831150513802,0.6551623159303882,0.6296001341269176,0.631217987672541,0.6087684225208052,0.41472942992186745,0.1449284598961155,0.07057663266249577,0.20090572251955538,0.6262635419971896,0.6416311727744275,0.6460365733243809,0.6095825426944972,0.6266711859300267,0.6290105828993785,0.6133991598458274,0.6147129365912157,0.6517534661540254,0.6648026450059186,0.5091821603741302,0.4558317399617591,0.3642448661294515,0.1382948790095667,0.3227921646746348,0.5530778475096809,0.5844155844155844,0.6013074394066825,0.6324244966442953,0.5388252029118902,0.5958677339591802,0.3619690679319312,0.5807667555392112,0.5971762629605118,0.5491419656786272,0.5050409696786617,0.32285498299105453,0.30318091451292245,0.11373442969958479,0.3698554605962743,0.4477423429112725,0.45539429970274525,0.2461928015916079,0.33796522326961353,0.35095129518184875,0.24069809283915078,0.14134021009518752,0.11229730150331477,0.13453104187648224,0.1047040971168437,0.6088098148399655,0.6562579984642949],\"type\":\"scatter\"}],                        {\"template\":{\"data\":{\"histogram2dcontour\":[{\"type\":\"histogram2dcontour\",\"colorbar\":{\"outlinewidth\":0,\"ticks\":\"\"},\"colorscale\":[[0.0,\"#0d0887\"],[0.1111111111111111,\"#46039f\"],[0.2222222222222222,\"#7201a8\"],[0.3333333333333333,\"#9c179e\"],[0.4444444444444444,\"#bd3786\"],[0.5555555555555556,\"#d8576b\"],[0.6666666666666666,\"#ed7953\"],[0.7777777777777778,\"#fb9f3a\"],[0.8888888888888888,\"#fdca26\"],[1.0,\"#f0f921\"]]}],\"choropleth\":[{\"type\":\"choropleth\",\"colorbar\":{\"outlinewidth\":0,\"ticks\":\"\"}}],\"histogram2d\":[{\"type\":\"histogram2d\",\"colorbar\":{\"outlinewidth\":0,\"ticks\":\"\"},\"colorscale\":[[0.0,\"#0d0887\"],[0.1111111111111111,\"#46039f\"],[0.2222222222222222,\"#7201a8\"],[0.3333333333333333,\"#9c179e\"],[0.4444444444444444,\"#bd3786\"],[0.5555555555555556,\"#d8576b\"],[0.6666666666666666,\"#ed7953\"],[0.7777777777777778,\"#fb9f3a\"],[0.8888888888888888,\"#fdca26\"],[1.0,\"#f0f921\"]]}],\"heatmap\":[{\"type\":\"heatmap\",\"colorbar\":{\"outlinewidth\":0,\"ticks\":\"\"},\"colorscale\":[[0.0,\"#0d0887\"],[0.1111111111111111,\"#46039f\"],[0.2222222222222222,\"#7201a8\"],[0.3333333333333333,\"#9c179e\"],[0.4444444444444444,\"#bd3786\"],[0.5555555555555556,\"#d8576b\"],[0.6666666666666666,\"#ed7953\"],[0.7777777777777778,\"#fb9f3a\"],[0.8888888888888888,\"#fdca26\"],[1.0,\"#f0f921\"]]}],\"heatmapgl\":[{\"type\":\"heatmapgl\",\"colorbar\":{\"outlinewidth\":0,\"ticks\":\"\"},\"colorscale\":[[0.0,\"#0d0887\"],[0.1111111111111111,\"#46039f\"],[0.2222222222222222,\"#7201a8\"],[0.3333333333333333,\"#9c179e\"],[0.4444444444444444,\"#bd3786\"],[0.5555555555555556,\"#d8576b\"],[0.6666666666666666,\"#ed7953\"],[0.7777777777777778,\"#fb9f3a\"],[0.8888888888888888,\"#fdca26\"],[1.0,\"#f0f921\"]]}],\"contourcarpet\":[{\"type\":\"contourcarpet\",\"colorbar\":{\"outlinewidth\":0,\"ticks\":\"\"}}],\"contour\":[{\"type\":\"contour\",\"colorbar\":{\"outlinewidth\":0,\"ticks\":\"\"},\"colorscale\":[[0.0,\"#0d0887\"],[0.1111111111111111,\"#46039f\"],[0.2222222222222222,\"#7201a8\"],[0.3333333333333333,\"#9c179e\"],[0.4444444444444444,\"#bd3786\"],[0.5555555555555556,\"#d8576b\"],[0.6666666666666666,\"#ed7953\"],[0.7777777777777778,\"#fb9f3a\"],[0.8888888888888888,\"#fdca26\"],[1.0,\"#f0f921\"]]}],\"surface\":[{\"type\":\"surface\",\"colorbar\":{\"outlinewidth\":0,\"ticks\":\"\"},\"colorscale\":[[0.0,\"#0d0887\"],[0.1111111111111111,\"#46039f\"],[0.2222222222222222,\"#7201a8\"],[0.3333333333333333,\"#9c179e\"],[0.4444444444444444,\"#bd3786\"],[0.5555555555555556,\"#d8576b\"],[0.6666666666666666,\"#ed7953\"],[0.7777777777777778,\"#fb9f3a\"],[0.8888888888888888,\"#fdca26\"],[1.0,\"#f0f921\"]]}],\"mesh3d\":[{\"type\":\"mesh3d\",\"colorbar\":{\"outlinewidth\":0,\"ticks\":\"\"}}],\"scatter\":[{\"fillpattern\":{\"fillmode\":\"overlay\",\"size\":10,\"solidity\":0.2},\"type\":\"scatter\"}],\"parcoords\":[{\"type\":\"parcoords\",\"line\":{\"colorbar\":{\"outlinewidth\":0,\"ticks\":\"\"}}}],\"scatterpolargl\":[{\"type\":\"scatterpolargl\",\"marker\":{\"colorbar\":{\"outlinewidth\":0,\"ticks\":\"\"}}}],\"bar\":[{\"error_x\":{\"color\":\"#2a3f5f\"},\"error_y\":{\"color\":\"#2a3f5f\"},\"marker\":{\"line\":{\"color\":\"#E5ECF6\",\"width\":0.5},\"pattern\":{\"fillmode\":\"overlay\",\"size\":10,\"solidity\":0.2}},\"type\":\"bar\"}],\"scattergeo\":[{\"type\":\"scattergeo\",\"marker\":{\"colorbar\":{\"outlinewidth\":0,\"ticks\":\"\"}}}],\"scatterpolar\":[{\"type\":\"scatterpolar\",\"marker\":{\"colorbar\":{\"outlinewidth\":0,\"ticks\":\"\"}}}],\"histogram\":[{\"marker\":{\"pattern\":{\"fillmode\":\"overlay\",\"size\":10,\"solidity\":0.2}},\"type\":\"histogram\"}],\"scattergl\":[{\"type\":\"scattergl\",\"marker\":{\"colorbar\":{\"outlinewidth\":0,\"ticks\":\"\"}}}],\"scatter3d\":[{\"type\":\"scatter3d\",\"line\":{\"colorbar\":{\"outlinewidth\":0,\"ticks\":\"\"}},\"marker\":{\"colorbar\":{\"outlinewidth\":0,\"ticks\":\"\"}}}],\"scattermapbox\":[{\"type\":\"scattermapbox\",\"marker\":{\"colorbar\":{\"outlinewidth\":0,\"ticks\":\"\"}}}],\"scatterternary\":[{\"type\":\"scatterternary\",\"marker\":{\"colorbar\":{\"outlinewidth\":0,\"ticks\":\"\"}}}],\"scattercarpet\":[{\"type\":\"scattercarpet\",\"marker\":{\"colorbar\":{\"outlinewidth\":0,\"ticks\":\"\"}}}],\"carpet\":[{\"aaxis\":{\"endlinecolor\":\"#2a3f5f\",\"gridcolor\":\"white\",\"linecolor\":\"white\",\"minorgridcolor\":\"white\",\"startlinecolor\":\"#2a3f5f\"},\"baxis\":{\"endlinecolor\":\"#2a3f5f\",\"gridcolor\":\"white\",\"linecolor\":\"white\",\"minorgridcolor\":\"white\",\"startlinecolor\":\"#2a3f5f\"},\"type\":\"carpet\"}],\"table\":[{\"cells\":{\"fill\":{\"color\":\"#EBF0F8\"},\"line\":{\"color\":\"white\"}},\"header\":{\"fill\":{\"color\":\"#C8D4E3\"},\"line\":{\"color\":\"white\"}},\"type\":\"table\"}],\"barpolar\":[{\"marker\":{\"line\":{\"color\":\"#E5ECF6\",\"width\":0.5},\"pattern\":{\"fillmode\":\"overlay\",\"size\":10,\"solidity\":0.2}},\"type\":\"barpolar\"}],\"pie\":[{\"automargin\":true,\"type\":\"pie\"}]},\"layout\":{\"autotypenumbers\":\"strict\",\"colorway\":[\"#636efa\",\"#EF553B\",\"#00cc96\",\"#ab63fa\",\"#FFA15A\",\"#19d3f3\",\"#FF6692\",\"#B6E880\",\"#FF97FF\",\"#FECB52\"],\"font\":{\"color\":\"#2a3f5f\"},\"hovermode\":\"closest\",\"hoverlabel\":{\"align\":\"left\"},\"paper_bgcolor\":\"white\",\"plot_bgcolor\":\"#E5ECF6\",\"polar\":{\"bgcolor\":\"#E5ECF6\",\"angularaxis\":{\"gridcolor\":\"white\",\"linecolor\":\"white\",\"ticks\":\"\"},\"radialaxis\":{\"gridcolor\":\"white\",\"linecolor\":\"white\",\"ticks\":\"\"}},\"ternary\":{\"bgcolor\":\"#E5ECF6\",\"aaxis\":{\"gridcolor\":\"white\",\"linecolor\":\"white\",\"ticks\":\"\"},\"baxis\":{\"gridcolor\":\"white\",\"linecolor\":\"white\",\"ticks\":\"\"},\"caxis\":{\"gridcolor\":\"white\",\"linecolor\":\"white\",\"ticks\":\"\"}},\"coloraxis\":{\"colorbar\":{\"outlinewidth\":0,\"ticks\":\"\"}},\"colorscale\":{\"sequential\":[[0.0,\"#0d0887\"],[0.1111111111111111,\"#46039f\"],[0.2222222222222222,\"#7201a8\"],[0.3333333333333333,\"#9c179e\"],[0.4444444444444444,\"#bd3786\"],[0.5555555555555556,\"#d8576b\"],[0.6666666666666666,\"#ed7953\"],[0.7777777777777778,\"#fb9f3a\"],[0.8888888888888888,\"#fdca26\"],[1.0,\"#f0f921\"]],\"sequentialminus\":[[0.0,\"#0d0887\"],[0.1111111111111111,\"#46039f\"],[0.2222222222222222,\"#7201a8\"],[0.3333333333333333,\"#9c179e\"],[0.4444444444444444,\"#bd3786\"],[0.5555555555555556,\"#d8576b\"],[0.6666666666666666,\"#ed7953\"],[0.7777777777777778,\"#fb9f3a\"],[0.8888888888888888,\"#fdca26\"],[1.0,\"#f0f921\"]],\"diverging\":[[0,\"#8e0152\"],[0.1,\"#c51b7d\"],[0.2,\"#de77ae\"],[0.3,\"#f1b6da\"],[0.4,\"#fde0ef\"],[0.5,\"#f7f7f7\"],[0.6,\"#e6f5d0\"],[0.7,\"#b8e186\"],[0.8,\"#7fbc41\"],[0.9,\"#4d9221\"],[1,\"#276419\"]]},\"xaxis\":{\"gridcolor\":\"white\",\"linecolor\":\"white\",\"ticks\":\"\",\"title\":{\"standoff\":15},\"zerolinecolor\":\"white\",\"automargin\":true,\"zerolinewidth\":2},\"yaxis\":{\"gridcolor\":\"white\",\"linecolor\":\"white\",\"ticks\":\"\",\"title\":{\"standoff\":15},\"zerolinecolor\":\"white\",\"automargin\":true,\"zerolinewidth\":2},\"scene\":{\"xaxis\":{\"backgroundcolor\":\"#E5ECF6\",\"gridcolor\":\"white\",\"linecolor\":\"white\",\"showbackground\":true,\"ticks\":\"\",\"zerolinecolor\":\"white\",\"gridwidth\":2},\"yaxis\":{\"backgroundcolor\":\"#E5ECF6\",\"gridcolor\":\"white\",\"linecolor\":\"white\",\"showbackground\":true,\"ticks\":\"\",\"zerolinecolor\":\"white\",\"gridwidth\":2},\"zaxis\":{\"backgroundcolor\":\"#E5ECF6\",\"gridcolor\":\"white\",\"linecolor\":\"white\",\"showbackground\":true,\"ticks\":\"\",\"zerolinecolor\":\"white\",\"gridwidth\":2}},\"shapedefaults\":{\"line\":{\"color\":\"#2a3f5f\"}},\"annotationdefaults\":{\"arrowcolor\":\"#2a3f5f\",\"arrowhead\":0,\"arrowwidth\":1},\"geo\":{\"bgcolor\":\"white\",\"landcolor\":\"#E5ECF6\",\"subunitcolor\":\"white\",\"showland\":true,\"showlakes\":true,\"lakecolor\":\"white\"},\"title\":{\"x\":0.05},\"mapbox\":{\"style\":\"light\"}}},\"title\":{\"text\":\"Max Generation as Percentage of Installed Capacity\"},\"xaxis\":{\"title\":{\"text\":\"Settlement Date\"}},\"yaxis\":{\"title\":{\"text\":\"Percentage\"}},\"autosize\":true,\"width\":1200,\"height\":800},                        {\"responsive\": true}                    ).then(function(){\n",
       "                            \n",
       "var gd = document.getElementById('ecdcb705-5d73-4505-998f-afb0531e2c1b');\n",
       "var x = new MutationObserver(function (mutations, observer) {{\n",
       "        var display = window.getComputedStyle(gd).display;\n",
       "        if (!display || display === 'none') {{\n",
       "            console.log([gd, 'removed!']);\n",
       "            Plotly.purge(gd);\n",
       "            observer.disconnect();\n",
       "        }}\n",
       "}});\n",
       "\n",
       "// Listen for the removal of the full notebook cells\n",
       "var notebookContainer = gd.closest('#notebook-container');\n",
       "if (notebookContainer) {{\n",
       "    x.observe(notebookContainer, {childList: true});\n",
       "}}\n",
       "\n",
       "// Listen for the clearing of the current output cell\n",
       "var outputEl = gd.closest('.output');\n",
       "if (outputEl) {{\n",
       "    x.observe(outputEl, {childList: true});\n",
       "}}\n",
       "\n",
       "                        })                };                });            </script>        </div>"
      ]
     },
     "metadata": {},
     "output_type": "display_data"
    }
   ],
   "source": [
    "# Using plotly chart the max_percentage_of_total_generation and max_generation_as_percentage_of_installed_capacity per day\n",
    "\n",
    "import plotly.graph_objects as go\n",
    "\n",
    "fig = go.Figure()\n",
    "\n",
    "fig.add_trace(go.Scatter(x=wind_data['settlementDate'], y=wind_data['max_generation_as_percentage_of_installed_capacity'],\n",
    "                         mode='lines', name='Max Generation as Percentage of Installed Capacity'))\n",
    "\n",
    "fig.add_trace(go.Scatter(x=wind_data['settlementDate'], y=wind_data['max_percentage_of_total_generation'],\n",
    "                         mode='lines', name='Max Percentage of Total Generation'))\n",
    "\n",
    "fig.update_layout(title='Max Generation as Percentage of Installed Capacity',\n",
    "                  xaxis_title='Settlement Date',\n",
    "                  yaxis_title='Percentage')\n",
    "\n",
    "fig.update_layout(\n",
    "    autosize=True,\n",
    "    width=1200,\n",
    "    height=800\n",
    ")\n",
    "\n",
    "fig.show()\n"
   ]
  },
  {
   "cell_type": "code",
   "execution_count": null,
   "metadata": {},
   "outputs": [],
   "source": []
  }
 ],
 "metadata": {
  "kernelspec": {
   "display_name": "uk-wind-generation-analytics-MDTY-yzQ-py3.12",
   "language": "python",
   "name": "python3"
  },
  "language_info": {
   "codemirror_mode": {
    "name": "ipython",
    "version": 3
   },
   "file_extension": ".py",
   "mimetype": "text/x-python",
   "name": "python",
   "nbconvert_exporter": "python",
   "pygments_lexer": "ipython3",
   "version": "3.12.2"
  }
 },
 "nbformat": 4,
 "nbformat_minor": 2
}
